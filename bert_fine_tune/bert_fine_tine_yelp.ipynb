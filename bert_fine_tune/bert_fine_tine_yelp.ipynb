{
 "cells": [
  {
   "cell_type": "markdown",
   "id": "7fbf2a84-31f9-436f-b31a-2fa7529923d6",
   "metadata": {},
   "source": [
    "# Hugging Face Transformers 微调训练入门"
   ]
  },
  {
   "cell_type": "markdown",
   "id": "929aac2f-316d-4187-abf4-4cdaf3724e75",
   "metadata": {},
   "source": [
    "## 1. 下载数据集"
   ]
  },
  {
   "cell_type": "code",
   "execution_count": 1,
   "id": "97af7260-97ec-4eca-a8ae-dc22d20206a2",
   "metadata": {},
   "outputs": [],
   "source": [
    "from datasets import load_dataset\n",
    "\n",
    "dataset = load_dataset(\"yelp_review_full\")"
   ]
  },
  {
   "cell_type": "markdown",
   "id": "581dcc66-32a1-4834-b0f0-ee1730bbe6d5",
   "metadata": {},
   "source": [
    "## 2. 预处理数据"
   ]
  },
  {
   "cell_type": "code",
   "execution_count": 2,
   "id": "8e1e0116-530f-419a-bb0c-90f04cb46a0f",
   "metadata": {},
   "outputs": [],
   "source": [
    "from transformers import AutoTokenizer\n",
    "\n",
    "tokenizer = AutoTokenizer.from_pretrained(\"bert_base_cased\")\n",
    "\n",
    "\n",
    "def tokenize_function(examples):\n",
    "    return tokenizer(examples[\"text\"], padding=\"max_length\", truncation=True)\n",
    "\n",
    "\n",
    "tokenized_datasets = dataset.map(tokenize_function, batched=True)"
   ]
  },
  {
   "cell_type": "markdown",
   "id": "94686620-3969-4ed7-b7b8-9716e7f37eae",
   "metadata": {},
   "source": [
    "## 3. 加载Bert模型"
   ]
  },
  {
   "cell_type": "code",
   "execution_count": 3,
   "id": "76cb31ea-3b47-4d76-9ba4-75a3eb2b6043",
   "metadata": {},
   "outputs": [
    {
     "name": "stderr",
     "output_type": "stream",
     "text": [
      "Some weights of BertForSequenceClassification were not initialized from the model checkpoint at bert_base_cased and are newly initialized: ['classifier.bias', 'classifier.weight']\n",
      "You should probably TRAIN this model on a down-stream task to be able to use it for predictions and inference.\n"
     ]
    }
   ],
   "source": [
    "from transformers import AutoModelForSequenceClassification\n",
    "\n",
    "model = AutoModelForSequenceClassification.from_pretrained(\"bert_base_cased\", num_labels=5)"
   ]
  },
  {
   "cell_type": "markdown",
   "id": "4d525440-86c5-41ac-b482-96eb4450e314",
   "metadata": {},
   "source": [
    "## 4. 设置超参数和评估指标"
   ]
  },
  {
   "cell_type": "code",
   "execution_count": 4,
   "id": "2eb7a3cc-447f-4d93-8561-efec1e0222e8",
   "metadata": {},
   "outputs": [],
   "source": [
    "from transformers import TrainingArguments, Trainer\n",
    "import numpy as np\n",
    "import evaluate\n",
    "\n",
    "model_dir = \"/root/autodl-tmp/yelp_bert\"\n",
    "metric = evaluate.load(\"accuracy\")\n",
    "\n",
    "def compute_metrics(eval_pred):\n",
    "    logits, labels = eval_pred\n",
    "    predictions = np.argmax(logits, axis=-1)\n",
    "    return metric.compute(predictions=predictions, references=labels)\n",
    "\n",
    "training_args = TrainingArguments(\n",
    "    output_dir=model_dir,\n",
    "    eval_strategy=\"steps\",\n",
    "    per_device_train_batch_size=32,\n",
    "    per_device_eval_batch_size=32,\n",
    "    num_train_epochs=1,\n",
    "    save_strategy=\"steps\",\n",
    "    save_steps=5000,\n",
    "    eval_steps=5000,\n",
    ")"
   ]
  },
  {
   "cell_type": "markdown",
   "id": "4067fd59-5952-45b4-887f-2c7b3c8e1ca0",
   "metadata": {},
   "source": [
    "## 5. 开始训练"
   ]
  },
  {
   "cell_type": "code",
   "execution_count": 6,
   "id": "1020600a-22b5-4f10-9435-dcca20af1fda",
   "metadata": {},
   "outputs": [],
   "source": [
    "trainer = Trainer(\n",
    "    model=model,\n",
    "    args=training_args,\n",
    "    train_dataset=tokenized_datasets[\"train\"],\n",
    "    eval_dataset=tokenized_datasets[\"test\"],\n",
    "    compute_metrics=compute_metrics,\n",
    ")"
   ]
  },
  {
   "cell_type": "code",
   "execution_count": 7,
   "id": "d51da81c-ef7d-4dad-b126-8726bc8f9533",
   "metadata": {},
   "outputs": [
    {
     "data": {
      "text/html": [
       "\n",
       "    <div>\n",
       "      \n",
       "      <progress value='3126' max='1563' style='width:300px; height:20px; vertical-align: middle;'></progress>\n",
       "      [1563/1563 1:50:30]\n",
       "    </div>\n",
       "    "
      ],
      "text/plain": [
       "<IPython.core.display.HTML object>"
      ]
     },
     "metadata": {},
     "output_type": "display_data"
    },
    {
     "data": {
      "text/plain": [
       "{'eval_loss': 1.7103939056396484,\n",
       " 'eval_accuracy': 0.20018,\n",
       " 'eval_runtime': 514.5202,\n",
       " 'eval_samples_per_second': 97.178,\n",
       " 'eval_steps_per_second': 3.038}"
      ]
     },
     "execution_count": 7,
     "metadata": {},
     "output_type": "execute_result"
    }
   ],
   "source": [
    "trainer.evaluate()"
   ]
  },
  {
   "cell_type": "code",
   "execution_count": 8,
   "id": "173d7e83-b0bb-42cb-bb63-671f8e19ba40",
   "metadata": {},
   "outputs": [
    {
     "data": {
      "text/html": [
       "\n",
       "    <div>\n",
       "      \n",
       "      <progress value='20313' max='20313' style='width:300px; height:20px; vertical-align: middle;'></progress>\n",
       "      [20313/20313 6:42:15, Epoch 1/1]\n",
       "    </div>\n",
       "    <table border=\"1\" class=\"dataframe\">\n",
       "  <thead>\n",
       " <tr style=\"text-align: left;\">\n",
       "      <th>Step</th>\n",
       "      <th>Training Loss</th>\n",
       "      <th>Validation Loss</th>\n",
       "      <th>Accuracy</th>\n",
       "    </tr>\n",
       "  </thead>\n",
       "  <tbody>\n",
       "    <tr>\n",
       "      <td>5000</td>\n",
       "      <td>0.800700</td>\n",
       "      <td>0.767660</td>\n",
       "      <td>0.663700</td>\n",
       "    </tr>\n",
       "    <tr>\n",
       "      <td>10000</td>\n",
       "      <td>0.744300</td>\n",
       "      <td>0.735620</td>\n",
       "      <td>0.678940</td>\n",
       "    </tr>\n",
       "    <tr>\n",
       "      <td>15000</td>\n",
       "      <td>0.719700</td>\n",
       "      <td>0.708545</td>\n",
       "      <td>0.688360</td>\n",
       "    </tr>\n",
       "    <tr>\n",
       "      <td>20000</td>\n",
       "      <td>0.698000</td>\n",
       "      <td>0.695257</td>\n",
       "      <td>0.695400</td>\n",
       "    </tr>\n",
       "  </tbody>\n",
       "</table><p>"
      ],
      "text/plain": [
       "<IPython.core.display.HTML object>"
      ]
     },
     "metadata": {},
     "output_type": "display_data"
    },
    {
     "data": {
      "text/plain": [
       "TrainOutput(global_step=20313, training_loss=0.7629087207084133, metrics={'train_runtime': 24136.6982, 'train_samples_per_second': 26.93, 'train_steps_per_second': 0.842, 'total_flos': 1.710267926016e+17, 'train_loss': 0.7629087207084133, 'epoch': 1.0})"
      ]
     },
     "execution_count": 8,
     "metadata": {},
     "output_type": "execute_result"
    }
   ],
   "source": [
    "trainer.train()"
   ]
  },
  {
   "cell_type": "code",
   "execution_count": 11,
   "id": "93050ef7-d43a-4be6-b3c0-b2f8e6537be0",
   "metadata": {},
   "outputs": [],
   "source": [
    "trainer.save_model(model_dir)"
   ]
  }
 ],
 "metadata": {
  "kernelspec": {
   "display_name": "Python 3 (ipykernel)",
   "language": "python",
   "name": "python3"
  },
  "language_info": {
   "codemirror_mode": {
    "name": "ipython",
    "version": 3
   },
   "file_extension": ".py",
   "mimetype": "text/x-python",
   "name": "python",
   "nbconvert_exporter": "python",
   "pygments_lexer": "ipython3",
   "version": "3.12.3"
  }
 },
 "nbformat": 4,
 "nbformat_minor": 5
}
